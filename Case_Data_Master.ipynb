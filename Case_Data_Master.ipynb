{
 "cells": [
  {
   "cell_type": "code",
   "execution_count": 3,
   "id": "ec25ef66",
   "metadata": {
    "execution": {
     "iopub.execute_input": "2024-11-08T20:53:26.450549Z",
     "iopub.status.busy": "2024-11-08T20:53:26.449601Z",
     "iopub.status.idle": "2024-11-08T20:53:26.732260Z",
     "shell.execute_reply": "2024-11-08T20:53:26.731537Z",
     "shell.execute_reply.started": "2024-11-08T20:53:26.450505Z"
    }
   },
   "outputs": [],
   "source": [
    "# import os\n",
    "import sys\n",
    "import pandas as pd\n",
    "\n",
    "pd.options.display.float_format = \"{:.2f}\".format # fomatacao do .describe()\n",
    "pd.set_option('display.max_columns', None) # mostrar todos os campos no .head()\n",
    "\n",
    "from pyspark.sql import SparkSession,SQLContext\n",
    "import pyspark.sql.functions as F\n",
    "from pyspark.sql.window import Window\n",
    "from pyspark.sql.types import StringType\n",
    "\n",
    "import calendar\n",
    "import datetime\n",
    "import datetime as datetime\n",
    "from datetime import datetime, timedelta, timezone\n",
    "# from datetime import timedelta\n",
    "\n",
    "import time\n",
    "from tqdm import tqdm\n",
    "\n",
    "try:\n",
    "    # import small_files\n",
    "    from small_files.small_files import *\n",
    "except:\n",
    "    !pip install small_files\n",
    "    # import small_files\n",
    "    from small_files.small_files import *\n",
    "    \n",
    "from functools import reduce\n",
    "from pyspark.sql import DataFrame\n",
    "\n",
    "from pyspark.sql import Row\n",
    "from pyspark.sql.types import FloatType\n",
    "from pyspark.sql.functions import col\n",
    "from pyspark.sql import SQLContext"
   ]
  },
  {
   "cell_type": "code",
   "execution_count": null,
   "id": "692ab9e3",
   "metadata": {
    "execution": {
     "iopub.execute_input": "2024-11-08T20:53:26.733761Z",
     "iopub.status.busy": "2024-11-08T20:53:26.733535Z",
     "iopub.status.idle": "2024-11-08T20:53:32.305924Z",
     "shell.execute_reply": "2024-11-08T20:53:32.305188Z",
     "shell.execute_reply.started": "2024-11-08T20:53:26.733738Z"
    }
   },
   "outputs": [],
   "source": [
    "!pip install smbprotocol\n",
    "!pip install PySmbClient\n",
    "import smbclient   \n",
    "import base64\n",
    "import sys\n",
    "import os"
   ]
  },
  {
   "cell_type": "code",
   "execution_count": null,
   "id": "78792126",
   "metadata": {
    "execution": {
     "iopub.execute_input": "2024-11-08T20:53:32.307644Z",
     "iopub.status.busy": "2024-11-08T20:53:32.307416Z",
     "iopub.status.idle": "2024-11-08T20:53:57.124888Z",
     "shell.execute_reply": "2024-11-08T20:53:57.124146Z",
     "shell.execute_reply.started": "2024-11-08T20:53:32.307617Z"
    }
   },
   "outputs": [],
   "source": [
    "%%time\n",
    "print('Logando no Spark....')\n",
    "\n",
    "# compliance: gapl_compliance\n",
    "# gmc: gapl_gmc\n",
    "fila = 'gapl_coe'\n",
    "\n",
    "spark = SparkSession.builder\\\n",
    "    .appName(\"Case Engenharia de Dados\")\\\n",
    "    .enableHiveSupport()\\\n",
    "    .config(\"spark.executor.memory\", \"12G\")\\\n",
    "    .config(\"spark.yarn.executor.memoryOverhead\", \"12G\")\\\n",
    "    .config(\"spark.dynamicAllocation.enabled\", \"true\")\\\n",
    "    .config(\"spark.dynamicAllocation.initialExecutors\", \"8\")\\\n",
    "    .config(\"spark.dynamicAllocation.maxExecutors\",\"8\")\\\n",
    "    .config(\"spark.executor.cores\", \"8\")\\\n",
    "    .config(\"spark.cores.max\", \"8\")\\\n",
    "    .config(\"spark.driver.memory\", \"64G\")\\\n",
    "    .config(\"spark.yarn.queue\", f\"root.{fila}\")\\\n",
    "    .config(\"spark.sql.hive.convertMetastoreParquet\",\"false\")\\\n",
    "    .config(\"spark.sql.catalogImplementation\", \"hive\")\\\n",
    "    .config('spark.sql.parquet.compression.codec', 'snappy')\\\n",
    "    .config('spark.io.compression.snappy.blockSize', '128MB')\\\n",
    "    .config('spark.files.maxPartitionBytes', '128MB')\\\n",
    "    .config(\"spark.sql.broadcastTimeout\", \"36000\")\\\n",
    "    .config(\"spark.hadoop.hive.metastore.client.socket.timeout\", \"900\")\\\n",
    "    .config(\"spark.network.timeout\", \"8000\")\\\n",
    "    .getOrCreate()\n",
    "\n",
    "print('Login no Spark concluido!')\n",
    "print(f\"printando aplicacao: {spark.sparkContext.applicationId}\")"
   ]
  },
  {
   "cell_type": "code",
   "execution_count": null,
   "id": "ea2eecfa",
   "metadata": {},
   "outputs": [],
   "source": [
    "fila = 'galp_gmc'\n",
    "sand_area = 'sand_min'\n",
    "tabela_lake_reclamacoes = 'tabela_final_reclamoes'\n",
    "tabela_lake_bacen = 'tabela_final_bacen'"
   ]
  },
  {
   "cell_type": "code",
   "execution_count": null,
   "id": "245c7c03",
   "metadata": {
    "execution": {
     "iopub.execute_input": "2024-11-08T20:53:57.126543Z",
     "iopub.status.busy": "2024-11-08T20:53:57.126283Z",
     "iopub.status.idle": "2024-11-08T20:53:57.142631Z",
     "shell.execute_reply": "2024-11-08T20:53:57.142040Z",
     "shell.execute_reply.started": "2024-11-08T20:53:57.126515Z"
    }
   },
   "outputs": [],
   "source": [
    "# informa sua matricula e senha\n",
    "# Senha de acesso criptografada da rede\n",
    "\n",
    "input_msg = \"Usuário {},\\nEntre com tua senha de rede para autenticar-se:\".format(os.environ.get('USER'))\n",
    "usuario = format(os.environ.get('USER'))\n",
    "# senha = getpass.getpass(input_msg)\n",
    "senha = base64.b64decode(\"THVhbmFAMjAyNAo=\").decode('utf-8')\n",
    "# smbclient.ClientConfig(username=f\"{usuario}\",password=senha)\n",
    "\n",
    "smbclient.ClientConfig(username=f\"{usuario}\",password=senha)"
   ]
  },
  {
   "cell_type": "markdown",
   "id": "85f71777",
   "metadata": {
    "execution": {
     "iopub.execute_input": "2024-11-08T20:48:59.414012Z",
     "iopub.status.busy": "2024-11-08T20:48:59.413705Z",
     "iopub.status.idle": "2024-11-08T20:48:59.417896Z",
     "shell.execute_reply": "2024-11-08T20:48:59.416879Z",
     "shell.execute_reply.started": "2024-11-08T20:48:59.413981Z"
    }
   },
   "source": [
    "### 1.Ingesta dos dados"
   ]
  },
  {
   "cell_type": "code",
   "execution_count": 17,
   "id": "59614c90",
   "metadata": {
    "execution": {
     "iopub.execute_input": "2024-11-08T21:12:56.390306Z",
     "iopub.status.busy": "2024-11-08T21:12:56.389956Z",
     "iopub.status.idle": "2024-11-08T21:12:59.676997Z",
     "shell.execute_reply": "2024-11-08T21:12:59.676058Z",
     "shell.execute_reply.started": "2024-11-08T21:12:56.390272Z"
    }
   },
   "outputs": [],
   "source": [
    "#Dados de reclamações PROCON\n",
    "\n",
    "diretorio_base_procon = r\"\\\\mscluster04fs\\PROJETO_RDA\\CDO_Consistencia\\Case Data Master\\planilha-de-transparencia-janeiro-a-outubro-2024.xlsx\"\n",
    "\n",
    "smbclient.reset_connection_cache()\n",
    "\n",
    "base_aux_procon = smbclient.open_file(f\"{diretorio_base_procon}\", mode=\"rb\")\n",
    "\n",
    "reclamacoes_df = pd.read_excel(base_aux_procon,sheet_name=\"RECLAMAÇÕES\",engine=\"openpyxl\",skiprows=0,usecols=lambda x:'Unnamed' not in x,index_col=False,na_filter=False)\n",
    "reclamacoes_df = reclamacoes_df.astype(str)\n",
    "\n",
    "# lendo tabela raw, sem qualquer ajuste\n",
    "# df_base_reclamacoes = spark.createDataFrame(base_layout_final)\\"
   ]
  },
  {
   "cell_type": "code",
   "execution_count": null,
   "id": "ca123b91",
   "metadata": {
    "execution": {
     "iopub.execute_input": "2024-11-08T21:14:04.033320Z",
     "iopub.status.busy": "2024-11-08T21:14:04.032953Z",
     "iopub.status.idle": "2024-11-08T21:14:04.077922Z",
     "shell.execute_reply": "2024-11-08T21:14:04.076952Z",
     "shell.execute_reply.started": "2024-11-08T21:14:04.033286Z"
    }
   },
   "outputs": [],
   "source": [
    "#Dados BACEN\n",
    "\n",
    "diretorio_base_bacen = f\"\\\\mscluster04fs\\PROJETO_RDA\\CDO_Consistencia\\Case Data Master\\Bancos+e+financeiras+-+Reclamacoes+e+quantidades+de+clientes+por+instituicao+financeira.csv\"\n",
    "\n",
    "smbclient.reset_connection_cache()\n",
    "\n",
    "base_final_bacen = smbclient.open_file(f\"{diretorio_base_bacen}\", mode=\"rb\")\n",
    "\n",
    "transparencia_df = pd.read_csv(diretorio_base_bacen, sep=\";\", dtype=str, header=0, keep_default_na=False, encoding=\"ISO8859-1\")\n",
    "transparencia_df = transparencia_df.astype(str)"
   ]
  },
  {
   "cell_type": "markdown",
   "id": "51ae9025",
   "metadata": {},
   "source": [
    "### 2. Tratamento de Dados"
   ]
  },
  {
   "cell_type": "code",
   "execution_count": 22,
   "id": "2a1422db",
   "metadata": {
    "execution": {
     "iopub.execute_input": "2024-11-08T21:14:07.708394Z",
     "iopub.status.busy": "2024-11-08T21:14:07.708104Z",
     "iopub.status.idle": "2024-11-08T21:14:07.712464Z",
     "shell.execute_reply": "2024-11-08T21:14:07.711878Z",
     "shell.execute_reply.started": "2024-11-08T21:14:07.708368Z"
    }
   },
   "outputs": [],
   "source": [
    "# 3. Tratamento de Dados\n",
    "def process_data(reclamacoes_df, transparencia_df):\n",
    "    print(\"[INFO] Tratando dados...\")\n",
    "    reclamacoes_df['Índice'] = pd.to_numeric(\n",
    "        reclamacoes_df['Índice'].str.replace(',', '.'), errors='coerce'\n",
    "    )\n",
    "    transparencia_df['DATA DE ENTRADA'] = pd.to_datetime(transparencia_df['DATA DE ENTRADA'], errors='coerce')\n",
    "    return reclamacoes_df, transparencia_df"
   ]
  },
  {
   "cell_type": "markdown",
   "id": "9c58e0af",
   "metadata": {},
   "source": [
    "### 3. Observabilidade"
   ]
  },
  {
   "cell_type": "code",
   "execution_count": 23,
   "id": "24f5da37",
   "metadata": {
    "execution": {
     "iopub.execute_input": "2024-11-08T21:14:35.263307Z",
     "iopub.status.busy": "2024-11-08T21:14:35.262980Z",
     "iopub.status.idle": "2024-11-08T21:14:35.266739Z",
     "shell.execute_reply": "2024-11-08T21:14:35.266211Z",
     "shell.execute_reply.started": "2024-11-08T21:14:35.263282Z"
    }
   },
   "outputs": [],
   "source": [
    "def log_info(message):\n",
    "    timestamp = datetime.now().strftime(\"%Y-%m-%d %H:%M:%S\")\n",
    "    print(f\"[{timestamp}] {message}\")"
   ]
  },
  {
   "cell_type": "markdown",
   "id": "4b391e0d",
   "metadata": {
    "execution": {
     "iopub.execute_input": "2024-11-08T21:14:55.784226Z",
     "iopub.status.busy": "2024-11-08T21:14:55.783923Z",
     "iopub.status.idle": "2024-11-08T21:14:55.786991Z",
     "shell.execute_reply": "2024-11-08T21:14:55.786432Z",
     "shell.execute_reply.started": "2024-11-08T21:14:55.784201Z"
    }
   },
   "source": [
    "### 4. Segurança de Dados"
   ]
  },
  {
   "cell_type": "code",
   "execution_count": null,
   "id": "98382181",
   "metadata": {},
   "outputs": [],
   "source": [
    "def secure_data(reclamacoes_df):\n",
    "    print(\"[INFO] Aplicando anonimização...\")\n",
    "    reclamacoes_df['Anonimized_CNPJ'] = reclamacoes_df['CNPJ_IF'].apply(lambda x: hash(x))\n",
    "    return reclamacoes_df"
   ]
  },
  {
   "cell_type": "markdown",
   "id": "5eafdfd3",
   "metadata": {},
   "source": [
    "### 5. Exploração e Insights"
   ]
  },
  {
   "cell_type": "code",
   "execution_count": null,
   "id": "efa77105",
   "metadata": {
    "execution": {
     "iopub.status.busy": "2024-11-08T20:53:57.228565Z",
     "iopub.status.idle": "2024-11-08T20:53:57.228891Z",
     "shell.execute_reply": "2024-11-08T20:53:57.228744Z"
    }
   },
   "outputs": [],
   "source": [
    "def generate_insights(reclamacoes_df, transparencia_df):\n",
    "    print(\"[INFO] Gerando insights...\")\n",
    "    transparencia_df['Mes'] = transparencia_df['DATA DE ENTRADA'].dt.to_period('M')\n",
    "    monthly_trend = transparencia_df.groupby('Mes').size()\n",
    "    top_institutions = reclamacoes_df.nlargest(5, 'Índice')\n",
    "\n",
    "    plt.figure(figsize=(10, 6))\n",
    "    plt.bar(top_institutions['Instituição_financeira'], top_institutions['Índice'], color='orange')\n",
    "    plt.title('Top 5 Instituições Financeiras com Maior Índice de Reclamações', fontsize=14)\n",
    "    plt.ylabel('Índice de Reclamações', fontsize=12)\n",
    "    plt.xticks(rotation=45, ha='right')\n",
    "    plt.tight_layout()\n",
    "    plt.show()\n",
    "\n",
    "    plt.figure(figsize=(10, 6))\n",
    "    monthly_trend.plot(kind='line', marker='o', color='blue')\n",
    "    plt.title('Tendência Mensal de Reclamações', fontsize=14)\n",
    "    plt.ylabel('Total de Reclamações', fontsize=12)\n",
    "    plt.grid(True)\n",
    "    plt.tight_layout()\n",
    "    plt.show()\n",
    "\n",
    "    return top_institutions, monthly_trend\n"
   ]
  },
  {
   "cell_type": "markdown",
   "id": "712004c7",
   "metadata": {},
   "source": [
    "### 6. Armazenamento de Dados"
   ]
  },
  {
   "cell_type": "code",
   "execution_count": null,
   "id": "74a328f4",
   "metadata": {},
   "outputs": [],
   "source": [
    "reclamacoes_spark_df = spark.createDataFrame(reclamacoes_df)\n",
    "transparencia_spark_df = spark.createDataFrame(transparencia_df)"
   ]
  },
  {
   "cell_type": "code",
   "execution_count": null,
   "id": "73194fbd",
   "metadata": {},
   "outputs": [],
   "source": [
    "if reclamacoes_spark_df.count() > 0:\n",
    "    print(\"Criando tabela {sand_area}.{tabela_lake_reclamacoes}\")\n",
    "    %time reclamacoes_spark_df\\\n",
    "        .whte.format(\"parquet\").mode('append')\n",
    "        .saveAsTable(f'{sand_area}.{tabela_lake_reclamacoes}')\n",
    "    print(\"Tabela {sand_area}.{tabela_lake_reclamacoes} criada!\")\n",
    "else:\n",
    "    print(\"Problema ao ingerir a tabela trada do PROCON. Avaliar!\")"
   ]
  },
  {
   "cell_type": "code",
   "execution_count": null,
   "id": "a06a0fe4",
   "metadata": {},
   "outputs": [],
   "source": [
    "if reclamacoes_spark_df.count() > 0:\n",
    "    print(\"Criando tabela {sand_area}.{tabela_lake_bacen}\")\n",
    "    %time reclamacoes_spark_df\\\n",
    "        .whte.format(\"parquet\").mode('append')\n",
    "        .saveAsTable(f'{sand_area}.{tabela_lake_bacen}')\n",
    "    print(\"Tabela {sand_area}.{tabela_lake_bacen} criada!\")\n",
    "else:\n",
    "    print(\"Problema ao ingerir a tabela trada do PROCON. Avaliar!\")"
   ]
  },
  {
   "cell_type": "code",
   "execution_count": null,
   "id": "22440e3c",
   "metadata": {},
   "outputs": [],
   "source": [
    "# Pipeline Principal\n",
    "def execute_pipeline():\n",
    "    log_info(\"Iniciando pipeline...\")\n",
    "    reclamacoes_df, transparencia_df = load_data()\n",
    "    reclamacoes_df, transparencia_df = ingest_data(reclamacoes_df, transparencia_df)\n",
    "    reclamacoes_df, transparencia_df = process_data(reclamacoes_df, transparencia_df)\n",
    "    reclamacoes_df = secure_data(reclamacoes_df)\n",
    "    top_institutions, monthly_trend = generate_insights(reclamacoes_df, transparencia_df)\n",
    "    store_data_spark(reclamacoes_df, transparencia_df)\n",
    "    log_info(\"Pipeline concluído com sucesso!\")\n",
    "    return top_institutions, monthly_trend\n",
    "\n",
    "# Executar pipeline\n",
    "execute_pipeline()"
   ]
  }
 ],
 "metadata": {
  "kernelspec": {
   "display_name": "Python 3",
   "language": "python",
   "name": "python3"
  },
  "language_info": {
   "codemirror_mode": {
    "name": "ipython",
    "version": 3
   },
   "file_extension": ".py",
   "mimetype": "text/x-python",
   "name": "python",
   "nbconvert_exporter": "python",
   "pygments_lexer": "ipython3",
   "version": "3.6.10"
  }
 },
 "nbformat": 4,
 "nbformat_minor": 5
}
