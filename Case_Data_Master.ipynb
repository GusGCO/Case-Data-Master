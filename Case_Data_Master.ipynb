{
 "cells": [
  {
   "cell_type": "code",
   "execution_count": 3,
   "id": "ec25ef66",
   "metadata": {
    "execution": {
     "iopub.execute_input": "2024-11-08T20:53:26.450549Z",
     "iopub.status.busy": "2024-11-08T20:53:26.449601Z",
     "iopub.status.idle": "2024-11-08T20:53:26.732260Z",
     "shell.execute_reply": "2024-11-08T20:53:26.731537Z",
     "shell.execute_reply.started": "2024-11-08T20:53:26.450505Z"
    }
   },
   "outputs": [],
   "source": [
    "# import os\n",
    "import sys\n",
    "import pandas as pd\n",
    "\n",
    "pd.options.display.float_format = \"{:.2f}\".format # fomatacao do .describe()\n",
    "pd.set_option('display.max_columns', None) # mostrar todos os campos no .head()\n",
    "\n",
    "from pyspark.sql import SparkSession,SQLContext\n",
    "import pyspark.sql.functions as F\n",
    "from pyspark.sql.window import Window\n",
    "from pyspark.sql.types import StringType\n",
    "\n",
    "import calendar\n",
    "import datetime\n",
    "import datetime as datetime\n",
    "from datetime import datetime, timedelta, timezone\n",
    "# from datetime import timedelta\n",
    "\n",
    "import time\n",
    "from tqdm import tqdm\n",
    "\n",
    "try:\n",
    "    # import small_files\n",
    "    from small_files.small_files import *\n",
    "except:\n",
    "    !pip install small_files\n",
    "    # import small_files\n",
    "    from small_files.small_files import *\n",
    "    \n",
    "from functools import reduce\n",
    "from pyspark.sql import DataFrame\n",
    "\n",
    "from pyspark.sql import Row\n",
    "from pyspark.sql.types import FloatType\n",
    "from pyspark.sql.functions import col\n",
    "from pyspark.sql import SQLContext"
   ]
  },
  {
   "cell_type": "code",
   "execution_count": 4,
   "id": "692ab9e3",
   "metadata": {
    "execution": {
     "iopub.execute_input": "2024-11-08T20:53:26.733761Z",
     "iopub.status.busy": "2024-11-08T20:53:26.733535Z",
     "iopub.status.idle": "2024-11-08T20:53:32.305924Z",
     "shell.execute_reply": "2024-11-08T20:53:32.305188Z",
     "shell.execute_reply.started": "2024-11-08T20:53:26.733738Z"
    }
   },
   "outputs": [
    {
     "name": "stdout",
     "output_type": "stream",
     "text": [
      "Looking in indexes: http://artifactory.santanderbr.corp/artifactory/api/pypi/pypi-all/simple\n",
      "Requirement already satisfied: smbprotocol in /opt/miniconda/lib/python3.6/site-packages (1.9.0)\n",
      "Requirement already satisfied: cryptography>=2.0 in /opt/miniconda/lib/python3.6/site-packages (from smbprotocol) (3.4.4)\n",
      "Requirement already satisfied: pyspnego in /opt/miniconda/lib/python3.6/site-packages (from smbprotocol) (0.5.4)\n",
      "Requirement already satisfied: cffi>=1.12 in /opt/miniconda/lib/python3.6/site-packages (from cryptography>=2.0->smbprotocol) (1.14.6)\n",
      "Requirement already satisfied: dataclasses in /opt/miniconda/lib/python3.6/site-packages (from pyspnego->smbprotocol) (0.8)\n",
      "Requirement already satisfied: pycparser in /opt/miniconda/lib/python3.6/site-packages (from cffi>=1.12->cryptography>=2.0->smbprotocol) (2.18)\n",
      "Looking in indexes: http://artifactory.santanderbr.corp/artifactory/api/pypi/pypi-all/simple\n",
      "Requirement already satisfied: PySmbClient in /opt/miniconda/lib/python3.6/site-packages (0.1.5)\n"
     ]
    }
   ],
   "source": [
    "!pip install smbprotocol\n",
    "!pip install PySmbClient\n",
    "import smbclient   \n",
    "import base64\n",
    "import sys\n",
    "import os"
   ]
  },
  {
   "cell_type": "code",
   "execution_count": 5,
   "id": "78792126",
   "metadata": {
    "execution": {
     "iopub.execute_input": "2024-11-08T20:53:32.307644Z",
     "iopub.status.busy": "2024-11-08T20:53:32.307416Z",
     "iopub.status.idle": "2024-11-08T20:53:57.124888Z",
     "shell.execute_reply": "2024-11-08T20:53:57.124146Z",
     "shell.execute_reply.started": "2024-11-08T20:53:32.307617Z"
    }
   },
   "outputs": [
    {
     "name": "stdout",
     "output_type": "stream",
     "text": [
      "Logando no Spark....\n",
      "Login no Spark concluido!\n",
      "printando aplicacao: application_1730085826968_132022\n",
      "CPU times: user 30.1 ms, sys: 16.4 ms, total: 46.4 ms\n",
      "Wall time: 24.8 s\n"
     ]
    }
   ],
   "source": [
    "%%time\n",
    "print('Logando no Spark....')\n",
    "\n",
    "# compliance: gapl_compliance\n",
    "# gmc: gapl_gmc\n",
    "fila = 'gapl_coe'\n",
    "\n",
    "spark = SparkSession.builder\\\n",
    "    .appName(\"Case Engenharia de Dados\")\\\n",
    "    .enableHiveSupport()\\\n",
    "    .config(\"spark.executor.memory\", \"12G\")\\\n",
    "    .config(\"spark.yarn.executor.memoryOverhead\", \"12G\")\\\n",
    "    .config(\"spark.dynamicAllocation.enabled\", \"true\")\\\n",
    "    .config(\"spark.dynamicAllocation.initialExecutors\", \"8\")\\\n",
    "    .config(\"spark.dynamicAllocation.maxExecutors\",\"8\")\\\n",
    "    .config(\"spark.executor.cores\", \"8\")\\\n",
    "    .config(\"spark.cores.max\", \"8\")\\\n",
    "    .config(\"spark.driver.memory\", \"64G\")\\\n",
    "    .config(\"spark.yarn.queue\", f\"root.{fila}\")\\\n",
    "    .config(\"spark.sql.hive.convertMetastoreParquet\",\"false\")\\\n",
    "    .config(\"spark.sql.catalogImplementation\", \"hive\")\\\n",
    "    .config('spark.sql.parquet.compression.codec', 'snappy')\\\n",
    "    .config('spark.io.compression.snappy.blockSize', '128MB')\\\n",
    "    .config('spark.files.maxPartitionBytes', '128MB')\\\n",
    "    .config(\"spark.sql.broadcastTimeout\", \"36000\")\\\n",
    "    .config(\"spark.hadoop.hive.metastore.client.socket.timeout\", \"900\")\\\n",
    "    .config(\"spark.network.timeout\", \"8000\")\\\n",
    "    .getOrCreate()\n",
    "\n",
    "print('Login no Spark concluido!')\n",
    "print(f\"printando aplicacao: {spark.sparkContext.applicationId}\")"
   ]
  },
  {
   "cell_type": "code",
   "execution_count": null,
   "id": "245c7c03",
   "metadata": {
    "execution": {
     "iopub.execute_input": "2024-11-08T20:53:57.126543Z",
     "iopub.status.busy": "2024-11-08T20:53:57.126283Z",
     "iopub.status.idle": "2024-11-08T20:53:57.142631Z",
     "shell.execute_reply": "2024-11-08T20:53:57.142040Z",
     "shell.execute_reply.started": "2024-11-08T20:53:57.126515Z"
    }
   },
   "outputs": [
    {
     "data": {
      "text/plain": [
       "<smbclient._pool.ClientConfig at 0x7f0255ff8c50>"
      ]
     },
     "execution_count": 6,
     "metadata": {},
     "output_type": "execute_result"
    }
   ],
   "source": [
    "# informa sua matricula e senha\n",
    "# Senha de acesso criptografada da rede\n",
    "\n",
    "input_msg = \"Usuário {},\\nEntre com tua senha de rede para autenticar-se:\".format(os.environ.get('USER'))\n",
    "usuario = format(os.environ.get('USER'))\n",
    "# senha = getpass.getpass(input_msg)\n",
    "senha = base64.b64decode(\"THVhbmFAMjAyNAo=\").decode('utf-8')\n",
    "# smbclient.ClientConfig(username=f\"{usuario}\",password=senha)\n",
    "\n",
    "smbclient.ClientConfig(username=f\"{usuario}\",password=senha)"
   ]
  },
  {
   "cell_type": "markdown",
   "id": "85f71777",
   "metadata": {
    "execution": {
     "iopub.execute_input": "2024-11-08T20:48:59.414012Z",
     "iopub.status.busy": "2024-11-08T20:48:59.413705Z",
     "iopub.status.idle": "2024-11-08T20:48:59.417896Z",
     "shell.execute_reply": "2024-11-08T20:48:59.416879Z",
     "shell.execute_reply.started": "2024-11-08T20:48:59.413981Z"
    }
   },
   "source": [
    "### 1.Ingesta dos dados"
   ]
  },
  {
   "cell_type": "code",
   "execution_count": 17,
   "id": "59614c90",
   "metadata": {
    "execution": {
     "iopub.execute_input": "2024-11-08T21:12:56.390306Z",
     "iopub.status.busy": "2024-11-08T21:12:56.389956Z",
     "iopub.status.idle": "2024-11-08T21:12:59.676997Z",
     "shell.execute_reply": "2024-11-08T21:12:59.676058Z",
     "shell.execute_reply.started": "2024-11-08T21:12:56.390272Z"
    }
   },
   "outputs": [],
   "source": [
    "#Dados de reclamações PROCON\n",
    "\n",
    "diretorio_base_procon = r\"\\\\mscluster04fs\\PROJETO_RDA\\CDO_Consistencia\\Case Data Master\\planilha-de-transparencia-janeiro-a-outubro-2024.xlsx\"\n",
    "\n",
    "smbclient.reset_connection_cache()\n",
    "\n",
    "base_aux_procon = smbclient.open_file(f\"{diretorio_base_procon}\", mode=\"rb\")\n",
    "\n",
    "reclamacoes_df = pd.read_excel(base_aux_procon,sheet_name=\"RECLAMAÇÕES\",engine=\"openpyxl\",skiprows=0,usecols=lambda x:'Unnamed' not in x,index_col=False,na_filter=False)\n",
    "reclamacoes_df = base_final_procon.astype(str)\n",
    "\n",
    "# lendo tabela raw, sem qualquer ajuste\n",
    "# df_base_reclamacoes = spark.createDataFrame(base_layout_final)\\"
   ]
  },
  {
   "cell_type": "code",
   "execution_count": 21,
   "id": "ca123b91",
   "metadata": {
    "execution": {
     "iopub.execute_input": "2024-11-08T21:14:04.033320Z",
     "iopub.status.busy": "2024-11-08T21:14:04.032953Z",
     "iopub.status.idle": "2024-11-08T21:14:04.077922Z",
     "shell.execute_reply": "2024-11-08T21:14:04.076952Z",
     "shell.execute_reply.started": "2024-11-08T21:14:04.033286Z"
    }
   },
   "outputs": [
    {
     "ename": "FileNotFoundError",
     "evalue": "[Errno 2] No such file or directory: '\\\\mscluster04fs\\\\PROJETO_RDA\\\\CDO_Consistencia\\\\Case Data Master\\\\Bancos+e+financeiras+-+Reclamacoes+e+quantidades+de+clientes+por+instituicao+financeira.csv'",
     "output_type": "error",
     "traceback": [
      "\u001b[0;31m---------------------------------------------------------------------------\u001b[0m",
      "\u001b[0;31mFileNotFoundError\u001b[0m                         Traceback (most recent call last)",
      "\u001b[0;32m<ipython-input-21-221b83025917>\u001b[0m in \u001b[0;36m<module>\u001b[0;34m\u001b[0m\n\u001b[1;32m      7\u001b[0m \u001b[0mbase_aux\u001b[0m \u001b[0;34m=\u001b[0m \u001b[0msmbclient\u001b[0m\u001b[0;34m.\u001b[0m\u001b[0mopen_file\u001b[0m\u001b[0;34m(\u001b[0m\u001b[0;34mf\"{diretorio_base_bacen}\"\u001b[0m\u001b[0;34m,\u001b[0m \u001b[0mmode\u001b[0m\u001b[0;34m=\u001b[0m\u001b[0;34m\"rb\"\u001b[0m\u001b[0;34m)\u001b[0m\u001b[0;34m\u001b[0m\u001b[0;34m\u001b[0m\u001b[0m\n\u001b[1;32m      8\u001b[0m \u001b[0;34m\u001b[0m\u001b[0m\n\u001b[0;32m----> 9\u001b[0;31m \u001b[0mtransparencia_df\u001b[0m \u001b[0;34m=\u001b[0m \u001b[0mpd\u001b[0m\u001b[0;34m.\u001b[0m\u001b[0mread_csv\u001b[0m\u001b[0;34m(\u001b[0m\u001b[0mdiretorio_base_bacen\u001b[0m\u001b[0;34m,\u001b[0m \u001b[0msep\u001b[0m\u001b[0;34m=\u001b[0m\u001b[0;34m\";\"\u001b[0m\u001b[0;34m,\u001b[0m \u001b[0mdtype\u001b[0m\u001b[0;34m=\u001b[0m\u001b[0mstr\u001b[0m\u001b[0;34m,\u001b[0m \u001b[0mheader\u001b[0m\u001b[0;34m=\u001b[0m\u001b[0;36m0\u001b[0m\u001b[0;34m,\u001b[0m \u001b[0mkeep_default_na\u001b[0m\u001b[0;34m=\u001b[0m\u001b[0;32mFalse\u001b[0m\u001b[0;34m,\u001b[0m \u001b[0mencoding\u001b[0m\u001b[0;34m=\u001b[0m\u001b[0;34m\"ISO8859-1\"\u001b[0m\u001b[0;34m)\u001b[0m\u001b[0;34m\u001b[0m\u001b[0;34m\u001b[0m\u001b[0m\n\u001b[0m\u001b[1;32m     10\u001b[0m \u001b[0mtransparencia_df\u001b[0m \u001b[0;34m=\u001b[0m \u001b[0mbase_final_bacen\u001b[0m\u001b[0;34m.\u001b[0m\u001b[0mastype\u001b[0m\u001b[0;34m(\u001b[0m\u001b[0mstr\u001b[0m\u001b[0;34m)\u001b[0m\u001b[0;34m\u001b[0m\u001b[0;34m\u001b[0m\u001b[0m\n",
      "\u001b[0;32m/opt/miniconda/lib/python3.6/site-packages/pandas/io/parsers.py\u001b[0m in \u001b[0;36mread_csv\u001b[0;34m(filepath_or_buffer, sep, delimiter, header, names, index_col, usecols, squeeze, prefix, mangle_dupe_cols, dtype, engine, converters, true_values, false_values, skipinitialspace, skiprows, skipfooter, nrows, na_values, keep_default_na, na_filter, verbose, skip_blank_lines, parse_dates, infer_datetime_format, keep_date_col, date_parser, dayfirst, cache_dates, iterator, chunksize, compression, thousands, decimal, lineterminator, quotechar, quoting, doublequote, escapechar, comment, encoding, dialect, error_bad_lines, warn_bad_lines, delim_whitespace, low_memory, memory_map, float_precision)\u001b[0m\n\u001b[1;32m    686\u001b[0m     )\n\u001b[1;32m    687\u001b[0m \u001b[0;34m\u001b[0m\u001b[0m\n\u001b[0;32m--> 688\u001b[0;31m     \u001b[0;32mreturn\u001b[0m \u001b[0m_read\u001b[0m\u001b[0;34m(\u001b[0m\u001b[0mfilepath_or_buffer\u001b[0m\u001b[0;34m,\u001b[0m \u001b[0mkwds\u001b[0m\u001b[0;34m)\u001b[0m\u001b[0;34m\u001b[0m\u001b[0;34m\u001b[0m\u001b[0m\n\u001b[0m\u001b[1;32m    689\u001b[0m \u001b[0;34m\u001b[0m\u001b[0m\n\u001b[1;32m    690\u001b[0m \u001b[0;34m\u001b[0m\u001b[0m\n",
      "\u001b[0;32m/opt/miniconda/lib/python3.6/site-packages/pandas/io/parsers.py\u001b[0m in \u001b[0;36m_read\u001b[0;34m(filepath_or_buffer, kwds)\u001b[0m\n\u001b[1;32m    452\u001b[0m \u001b[0;34m\u001b[0m\u001b[0m\n\u001b[1;32m    453\u001b[0m     \u001b[0;31m# Create the parser.\u001b[0m\u001b[0;34m\u001b[0m\u001b[0;34m\u001b[0m\u001b[0;34m\u001b[0m\u001b[0m\n\u001b[0;32m--> 454\u001b[0;31m     \u001b[0mparser\u001b[0m \u001b[0;34m=\u001b[0m \u001b[0mTextFileReader\u001b[0m\u001b[0;34m(\u001b[0m\u001b[0mfp_or_buf\u001b[0m\u001b[0;34m,\u001b[0m \u001b[0;34m**\u001b[0m\u001b[0mkwds\u001b[0m\u001b[0;34m)\u001b[0m\u001b[0;34m\u001b[0m\u001b[0;34m\u001b[0m\u001b[0m\n\u001b[0m\u001b[1;32m    455\u001b[0m \u001b[0;34m\u001b[0m\u001b[0m\n\u001b[1;32m    456\u001b[0m     \u001b[0;32mif\u001b[0m \u001b[0mchunksize\u001b[0m \u001b[0;32mor\u001b[0m \u001b[0miterator\u001b[0m\u001b[0;34m:\u001b[0m\u001b[0;34m\u001b[0m\u001b[0;34m\u001b[0m\u001b[0m\n",
      "\u001b[0;32m/opt/miniconda/lib/python3.6/site-packages/pandas/io/parsers.py\u001b[0m in \u001b[0;36m__init__\u001b[0;34m(self, f, engine, **kwds)\u001b[0m\n\u001b[1;32m    946\u001b[0m             \u001b[0mself\u001b[0m\u001b[0;34m.\u001b[0m\u001b[0moptions\u001b[0m\u001b[0;34m[\u001b[0m\u001b[0;34m\"has_index_names\"\u001b[0m\u001b[0;34m]\u001b[0m \u001b[0;34m=\u001b[0m \u001b[0mkwds\u001b[0m\u001b[0;34m[\u001b[0m\u001b[0;34m\"has_index_names\"\u001b[0m\u001b[0;34m]\u001b[0m\u001b[0;34m\u001b[0m\u001b[0;34m\u001b[0m\u001b[0m\n\u001b[1;32m    947\u001b[0m \u001b[0;34m\u001b[0m\u001b[0m\n\u001b[0;32m--> 948\u001b[0;31m         \u001b[0mself\u001b[0m\u001b[0;34m.\u001b[0m\u001b[0m_make_engine\u001b[0m\u001b[0;34m(\u001b[0m\u001b[0mself\u001b[0m\u001b[0;34m.\u001b[0m\u001b[0mengine\u001b[0m\u001b[0;34m)\u001b[0m\u001b[0;34m\u001b[0m\u001b[0;34m\u001b[0m\u001b[0m\n\u001b[0m\u001b[1;32m    949\u001b[0m \u001b[0;34m\u001b[0m\u001b[0m\n\u001b[1;32m    950\u001b[0m     \u001b[0;32mdef\u001b[0m \u001b[0mclose\u001b[0m\u001b[0;34m(\u001b[0m\u001b[0mself\u001b[0m\u001b[0;34m)\u001b[0m\u001b[0;34m:\u001b[0m\u001b[0;34m\u001b[0m\u001b[0;34m\u001b[0m\u001b[0m\n",
      "\u001b[0;32m/opt/miniconda/lib/python3.6/site-packages/pandas/io/parsers.py\u001b[0m in \u001b[0;36m_make_engine\u001b[0;34m(self, engine)\u001b[0m\n\u001b[1;32m   1178\u001b[0m     \u001b[0;32mdef\u001b[0m \u001b[0m_make_engine\u001b[0m\u001b[0;34m(\u001b[0m\u001b[0mself\u001b[0m\u001b[0;34m,\u001b[0m \u001b[0mengine\u001b[0m\u001b[0;34m=\u001b[0m\u001b[0;34m\"c\"\u001b[0m\u001b[0;34m)\u001b[0m\u001b[0;34m:\u001b[0m\u001b[0;34m\u001b[0m\u001b[0;34m\u001b[0m\u001b[0m\n\u001b[1;32m   1179\u001b[0m         \u001b[0;32mif\u001b[0m \u001b[0mengine\u001b[0m \u001b[0;34m==\u001b[0m \u001b[0;34m\"c\"\u001b[0m\u001b[0;34m:\u001b[0m\u001b[0;34m\u001b[0m\u001b[0;34m\u001b[0m\u001b[0m\n\u001b[0;32m-> 1180\u001b[0;31m             \u001b[0mself\u001b[0m\u001b[0;34m.\u001b[0m\u001b[0m_engine\u001b[0m \u001b[0;34m=\u001b[0m \u001b[0mCParserWrapper\u001b[0m\u001b[0;34m(\u001b[0m\u001b[0mself\u001b[0m\u001b[0;34m.\u001b[0m\u001b[0mf\u001b[0m\u001b[0;34m,\u001b[0m \u001b[0;34m**\u001b[0m\u001b[0mself\u001b[0m\u001b[0;34m.\u001b[0m\u001b[0moptions\u001b[0m\u001b[0;34m)\u001b[0m\u001b[0;34m\u001b[0m\u001b[0;34m\u001b[0m\u001b[0m\n\u001b[0m\u001b[1;32m   1181\u001b[0m         \u001b[0;32melse\u001b[0m\u001b[0;34m:\u001b[0m\u001b[0;34m\u001b[0m\u001b[0;34m\u001b[0m\u001b[0m\n\u001b[1;32m   1182\u001b[0m             \u001b[0;32mif\u001b[0m \u001b[0mengine\u001b[0m \u001b[0;34m==\u001b[0m \u001b[0;34m\"python\"\u001b[0m\u001b[0;34m:\u001b[0m\u001b[0;34m\u001b[0m\u001b[0;34m\u001b[0m\u001b[0m\n",
      "\u001b[0;32m/opt/miniconda/lib/python3.6/site-packages/pandas/io/parsers.py\u001b[0m in \u001b[0;36m__init__\u001b[0;34m(self, src, **kwds)\u001b[0m\n\u001b[1;32m   1991\u001b[0m         \u001b[0;32mif\u001b[0m \u001b[0mkwds\u001b[0m\u001b[0;34m.\u001b[0m\u001b[0mget\u001b[0m\u001b[0;34m(\u001b[0m\u001b[0;34m\"compression\"\u001b[0m\u001b[0;34m)\u001b[0m \u001b[0;32mis\u001b[0m \u001b[0;32mNone\u001b[0m \u001b[0;32mand\u001b[0m \u001b[0mencoding\u001b[0m\u001b[0;34m:\u001b[0m\u001b[0;34m\u001b[0m\u001b[0;34m\u001b[0m\u001b[0m\n\u001b[1;32m   1992\u001b[0m             \u001b[0;32mif\u001b[0m \u001b[0misinstance\u001b[0m\u001b[0;34m(\u001b[0m\u001b[0msrc\u001b[0m\u001b[0;34m,\u001b[0m \u001b[0mstr\u001b[0m\u001b[0;34m)\u001b[0m\u001b[0;34m:\u001b[0m\u001b[0;34m\u001b[0m\u001b[0;34m\u001b[0m\u001b[0m\n\u001b[0;32m-> 1993\u001b[0;31m                 \u001b[0msrc\u001b[0m \u001b[0;34m=\u001b[0m \u001b[0mopen\u001b[0m\u001b[0;34m(\u001b[0m\u001b[0msrc\u001b[0m\u001b[0;34m,\u001b[0m \u001b[0;34m\"rb\"\u001b[0m\u001b[0;34m)\u001b[0m\u001b[0;34m\u001b[0m\u001b[0;34m\u001b[0m\u001b[0m\n\u001b[0m\u001b[1;32m   1994\u001b[0m                 \u001b[0mself\u001b[0m\u001b[0;34m.\u001b[0m\u001b[0mhandles\u001b[0m\u001b[0;34m.\u001b[0m\u001b[0mappend\u001b[0m\u001b[0;34m(\u001b[0m\u001b[0msrc\u001b[0m\u001b[0;34m)\u001b[0m\u001b[0;34m\u001b[0m\u001b[0;34m\u001b[0m\u001b[0m\n\u001b[1;32m   1995\u001b[0m \u001b[0;34m\u001b[0m\u001b[0m\n",
      "\u001b[0;31mFileNotFoundError\u001b[0m: [Errno 2] No such file or directory: '\\\\mscluster04fs\\\\PROJETO_RDA\\\\CDO_Consistencia\\\\Case Data Master\\\\Bancos+e+financeiras+-+Reclamacoes+e+quantidades+de+clientes+por+instituicao+financeira.csv'"
     ]
    }
   ],
   "source": [
    "#Dados BACEN\n",
    "\n",
    "diretorio_base_bacen = f\"\\\\mscluster04fs\\PROJETO_RDA\\CDO_Consistencia\\Case Data Master\\Bancos+e+financeiras+-+Reclamacoes+e+quantidades+de+clientes+por+instituicao+financeira.csv\"\n",
    "\n",
    "smbclient.reset_connection_cache()\n",
    "\n",
    "base_aux = smbclient.open_file(f\"{diretorio_base_bacen}\", mode=\"rb\")\n",
    "\n",
    "transparencia_df = pd.read_csv(diretorio_base_bacen, sep=\";\", dtype=str, header=0, keep_default_na=False, encoding=\"ISO8859-1\")\n",
    "transparencia_df = base_final_bacen.astype(str)"
   ]
  },
  {
   "cell_type": "code",
   "execution_count": null,
   "id": "14b58e82",
   "metadata": {
    "execution": {
     "iopub.status.busy": "2024-11-08T20:53:57.227524Z",
     "iopub.status.idle": "2024-11-08T20:53:57.227753Z",
     "shell.execute_reply": "2024-11-08T20:53:57.227647Z"
    }
   },
   "outputs": [],
   "source": [
    "df.exit()"
   ]
  },
  {
   "cell_type": "markdown",
   "id": "51ae9025",
   "metadata": {},
   "source": [
    "### 3. Tratamento de Dados"
   ]
  },
  {
   "cell_type": "code",
   "execution_count": 22,
   "id": "2a1422db",
   "metadata": {
    "execution": {
     "iopub.execute_input": "2024-11-08T21:14:07.708394Z",
     "iopub.status.busy": "2024-11-08T21:14:07.708104Z",
     "iopub.status.idle": "2024-11-08T21:14:07.712464Z",
     "shell.execute_reply": "2024-11-08T21:14:07.711878Z",
     "shell.execute_reply.started": "2024-11-08T21:14:07.708368Z"
    }
   },
   "outputs": [],
   "source": [
    "# 3. Tratamento de Dados\n",
    "def process_data(reclamacoes_df, transparencia_df):\n",
    "    print(\"[INFO] Tratando dados...\")\n",
    "    reclamacoes_df['Índice'] = pd.to_numeric(\n",
    "        reclamacoes_df['Índice'].str.replace(',', '.'), errors='coerce'\n",
    "    )\n",
    "    transparencia_df['DATA DE ENTRADA'] = pd.to_datetime(transparencia_df['DATA DE ENTRADA'], errors='coerce')\n",
    "    return reclamacoes_df, transparencia_df"
   ]
  },
  {
   "cell_type": "code",
   "execution_count": 19,
   "id": "a13e87e4",
   "metadata": {
    "execution": {
     "iopub.execute_input": "2024-11-08T21:13:09.790573Z",
     "iopub.status.busy": "2024-11-08T21:13:09.790261Z",
     "iopub.status.idle": "2024-11-08T21:13:09.804103Z",
     "shell.execute_reply": "2024-11-08T21:13:09.803373Z",
     "shell.execute_reply.started": "2024-11-08T21:13:09.790545Z"
    }
   },
   "outputs": [
    {
     "data": {
      "text/html": [
       "<div>\n",
       "<style scoped>\n",
       "    .dataframe tbody tr th:only-of-type {\n",
       "        vertical-align: middle;\n",
       "    }\n",
       "\n",
       "    .dataframe tbody tr th {\n",
       "        vertical-align: top;\n",
       "    }\n",
       "\n",
       "    .dataframe thead th {\n",
       "        text-align: right;\n",
       "    }\n",
       "</style>\n",
       "<table border=\"1\" class=\"dataframe\">\n",
       "  <thead>\n",
       "    <tr style=\"text-align: right;\">\n",
       "      <th></th>\n",
       "      <th>RECLAMAÇÕES 2024 - JANEIRO A OUTUBRO</th>\n",
       "    </tr>\n",
       "  </thead>\n",
       "  <tbody>\n",
       "    <tr>\n",
       "      <th>0</th>\n",
       "      <td>DATA DE ENTRADA</td>\n",
       "    </tr>\n",
       "    <tr>\n",
       "      <th>1</th>\n",
       "      <td>2024-01-02 00:00:00</td>\n",
       "    </tr>\n",
       "    <tr>\n",
       "      <th>2</th>\n",
       "      <td>2024-01-02 00:00:00</td>\n",
       "    </tr>\n",
       "    <tr>\n",
       "      <th>3</th>\n",
       "      <td>2024-01-03 00:00:00</td>\n",
       "    </tr>\n",
       "    <tr>\n",
       "      <th>4</th>\n",
       "      <td>2024-01-03 00:00:00</td>\n",
       "    </tr>\n",
       "    <tr>\n",
       "      <th>...</th>\n",
       "      <td>...</td>\n",
       "    </tr>\n",
       "    <tr>\n",
       "      <th>36199</th>\n",
       "      <td>None</td>\n",
       "    </tr>\n",
       "    <tr>\n",
       "      <th>36200</th>\n",
       "      <td>None</td>\n",
       "    </tr>\n",
       "    <tr>\n",
       "      <th>36201</th>\n",
       "      <td>None</td>\n",
       "    </tr>\n",
       "    <tr>\n",
       "      <th>36202</th>\n",
       "      <td>None</td>\n",
       "    </tr>\n",
       "    <tr>\n",
       "      <th>36203</th>\n",
       "      <td>None</td>\n",
       "    </tr>\n",
       "  </tbody>\n",
       "</table>\n",
       "<p>36204 rows × 1 columns</p>\n",
       "</div>"
      ],
      "text/plain": [
       "      RECLAMAÇÕES 2024 - JANEIRO A OUTUBRO\n",
       "0                          DATA DE ENTRADA\n",
       "1                      2024-01-02 00:00:00\n",
       "2                      2024-01-02 00:00:00\n",
       "3                      2024-01-03 00:00:00\n",
       "4                      2024-01-03 00:00:00\n",
       "...                                    ...\n",
       "36199                                 None\n",
       "36200                                 None\n",
       "36201                                 None\n",
       "36202                                 None\n",
       "36203                                 None\n",
       "\n",
       "[36204 rows x 1 columns]"
      ]
     },
     "execution_count": 19,
     "metadata": {},
     "output_type": "execute_result"
    }
   ],
   "source": [
    "reclamacoes_df"
   ]
  },
  {
   "cell_type": "markdown",
   "id": "9c58e0af",
   "metadata": {},
   "source": [
    "### 4. Observabilidade"
   ]
  },
  {
   "cell_type": "code",
   "execution_count": 23,
   "id": "24f5da37",
   "metadata": {
    "execution": {
     "iopub.execute_input": "2024-11-08T21:14:35.263307Z",
     "iopub.status.busy": "2024-11-08T21:14:35.262980Z",
     "iopub.status.idle": "2024-11-08T21:14:35.266739Z",
     "shell.execute_reply": "2024-11-08T21:14:35.266211Z",
     "shell.execute_reply.started": "2024-11-08T21:14:35.263282Z"
    }
   },
   "outputs": [],
   "source": [
    "def log_info(message):\n",
    "    timestamp = datetime.now().strftime(\"%Y-%m-%d %H:%M:%S\")\n",
    "    print(f\"[{timestamp}] {message}\")"
   ]
  },
  {
   "cell_type": "markdown",
   "id": "4b391e0d",
   "metadata": {
    "execution": {
     "iopub.execute_input": "2024-11-08T21:14:55.784226Z",
     "iopub.status.busy": "2024-11-08T21:14:55.783923Z",
     "iopub.status.idle": "2024-11-08T21:14:55.786991Z",
     "shell.execute_reply": "2024-11-08T21:14:55.786432Z",
     "shell.execute_reply.started": "2024-11-08T21:14:55.784201Z"
    }
   },
   "source": [
    "### 5. Segurança de Dados"
   ]
  },
  {
   "cell_type": "code",
   "execution_count": null,
   "id": "98382181",
   "metadata": {},
   "outputs": [],
   "source": [
    "def secure_data(reclamacoes_df):\n",
    "    print(\"[INFO] Aplicando anonimização...\")\n",
    "    reclamacoes_df['Anonimized_CNPJ'] = reclamacoes_df['CNPJ_IF'].apply(lambda x: hash(x))\n",
    "    return reclamacoes_df"
   ]
  },
  {
   "cell_type": "markdown",
   "id": "5eafdfd3",
   "metadata": {},
   "source": [
    "### 6. Exploração e Insights"
   ]
  },
  {
   "cell_type": "code",
   "execution_count": null,
   "id": "efa77105",
   "metadata": {
    "execution": {
     "iopub.status.busy": "2024-11-08T20:53:57.228565Z",
     "iopub.status.idle": "2024-11-08T20:53:57.228891Z",
     "shell.execute_reply": "2024-11-08T20:53:57.228744Z"
    }
   },
   "outputs": [],
   "source": [
    "def generate_insights(reclamacoes_df, transparencia_df):\n",
    "    print(\"[INFO] Gerando insights...\")\n",
    "    transparencia_df['Mes'] = transparencia_df['DATA DE ENTRADA'].dt.to_period('M')\n",
    "    monthly_trend = transparencia_df.groupby('Mes').size()\n",
    "    top_institutions = reclamacoes_df.nlargest(5, 'Índice')\n",
    "\n",
    "    plt.figure(figsize=(10, 6))\n",
    "    plt.bar(top_institutions['Instituição_financeira'], top_institutions['Índice'], color='orange')\n",
    "    plt.title('Top 5 Instituições Financeiras com Maior Índice de Reclamações', fontsize=14)\n",
    "    plt.ylabel('Índice de Reclamações', fontsize=12)\n",
    "    plt.xticks(rotation=45, ha='right')\n",
    "    plt.tight_layout()\n",
    "    plt.show()\n",
    "\n",
    "    plt.figure(figsize=(10, 6))\n",
    "    monthly_trend.plot(kind='line', marker='o', color='blue')\n",
    "    plt.title('Tendência Mensal de Reclamações', fontsize=14)\n",
    "    plt.ylabel('Total de Reclamações', fontsize=12)\n",
    "    plt.grid(True)\n",
    "    plt.tight_layout()\n",
    "    plt.show()\n",
    "\n",
    "    return top_institutions, monthly_trend\n",
    "\n",
    "\n",
    "\n",
    "\n"
   ]
  },
  {
   "cell_type": "markdown",
   "id": "712004c7",
   "metadata": {},
   "source": [
    "### 7. Armazenamento de Dados"
   ]
  },
  {
   "cell_type": "code",
   "execution_count": null,
   "id": "022fed89",
   "metadata": {},
   "outputs": [],
   "source": [
    "def store_data_spark(reclamacoes_df, transparencia_df):\n",
    "    print(\"[INFO] Armazenando dados no formato Parquet com PySpark...\")\n",
    "    # Converter Pandas DataFrame para Spark DataFrame\n",
    "    reclamacoes_spark_df = spark.createDataFrame(reclamacoes_df)\n",
    "    transparencia_spark_df = spark.createDataFrame(transparencia_df)\n",
    "\n",
    "    reclamacoes_spark_df.write.mode(\"overwrite\").parquet(\"/mnt/data/datalake/reclamacoes_spark.parquet\")\n",
    "    transparencia_spark_df.write.mode(\"overwrite\").parquet(\"/mnt/data/datalake/transparencia_spark.parquet\")\n"
   ]
  },
  {
   "cell_type": "code",
   "execution_count": null,
   "id": "22440e3c",
   "metadata": {},
   "outputs": [],
   "source": [
    "# Pipeline Principal\n",
    "def execute_pipeline():\n",
    "    log_info(\"Iniciando pipeline...\")\n",
    "    reclamacoes_df, transparencia_df = load_data()\n",
    "    reclamacoes_df, transparencia_df = ingest_data(reclamacoes_df, transparencia_df)\n",
    "    reclamacoes_df, transparencia_df = process_data(reclamacoes_df, transparencia_df)\n",
    "    reclamacoes_df = secure_data(reclamacoes_df)\n",
    "    top_institutions, monthly_trend = generate_insights(reclamacoes_df, transparencia_df)\n",
    "    store_data_spark(reclamacoes_df, transparencia_df)\n",
    "    log_info(\"Pipeline concluído com sucesso!\")\n",
    "    return top_institutions, monthly_trend\n",
    "\n",
    "# Executar pipeline\n",
    "execute_pipeline()"
   ]
  },
  {
   "cell_type": "markdown",
   "id": "a0f8a7d3",
   "metadata": {},
   "source": [
    "# Case de Engenharia de Dados\n",
    "\n",
    "## Objetivo do Case\n",
    "Desenvolver um pipeline de dados completo para análise de reclamações financeiras, relacionando com dados de transparência pública, utilizando Python e PySpark. O objetivo é explorar padrões de reclamações, tendências temporais e garantir segurança dos dados.\n",
    "\n",
    "---\n",
    "\n",
    "## Arquitetura de Solução e Arquitetura Técnica\n",
    "\n",
    "### Arquitetura de Solução\n",
    "- **Fontes de Dados**:\n",
    "  - Reclamações financeiras: Dataset CSV com dados de instituições financeiras.\n",
    "  - Transparência pública: Dataset Excel com dados de reclamações detalhadas.\n",
    "- **Pipeline de Dados**:\n",
    "  - Extração → Ingestão → Tratamento → Insights → Armazenamento.\n",
    "- **Resultados**:\n",
    "  - Relatórios gráficos com insights das 5 instituições com maior índice de reclamações.\n",
    "  - Tendências mensais de reclamações.\n",
    "\n",
    "### Arquitetura Técnica\n",
    "- **Tecnologias Utilizadas**:\n",
    "  - **Python**: Manipulação inicial (Pandas).\n",
    "  - **PySpark**: Armazenamento eficiente em formato Parquet.\n",
    "  - **Matplotlib**: Visualização gráfica.\n",
    "- **Fluxo do Pipeline**:\n",
    "  1. Extração de dados dos arquivos.\n",
    "  2. Normalização e tratamento de colunas.\n",
    "  3. Anonimização de dados sensíveis.\n",
    "  4. Geração de insights (gráficos).\n",
    "  5. Armazenamento final em formato Parquet.\n",
    "\n",
    "---\n",
    "\n",
    "## Explicação sobre o Case Desenvolvido\n",
    "\n",
    "### Etapas Realizadas\n",
    "1. **Extração**:\n",
    "   - Arquivos CSV e Excel lidos e convertidos para DataFrames.\n",
    "2. **Ingestão**:\n",
    "   - Nomes de colunas normalizados para evitar inconsistências.\n",
    "3. **Tratamento**:\n",
    "   - Conversão de colunas numéricas e temporais para análise.\n",
    "4. **Segurança**:\n",
    "   - Aplicado mascaramento de CNPJs.\n",
    "5. **Exploração**:\n",
    "   - Identificação das instituições com maior índice de reclamações.\n",
    "   - Análise temporal de reclamações por mês.\n",
    "6. **Armazenamento**:\n",
    "   - Dados finais armazenados como Parquet para facilitar consultas.\n",
    "\n",
    "---\n",
    "\n",
    "## Melhorias e Considerações Finais\n",
    "\n",
    "### Melhorias Futuras\n",
    "1. Conectar dados a APIs em tempo real.\n",
    "2. Implementar alertas automáticos para índices críticos.\n",
    "3. Expandir análise para outras categorias de dados.\n",
    "\n",
    "### Considerações Finais\n",
    "- O pipeline é modular e escalável.\n",
    "- Integração com Spark permite análise de grandes volumes.\n",
    "- Este case demonstra habilidades avançadas em engenharia de dados.\n"
   ]
  }
 ],
 "metadata": {
  "kernelspec": {
   "display_name": "Python 3",
   "language": "python",
   "name": "python3"
  },
  "language_info": {
   "codemirror_mode": {
    "name": "ipython",
    "version": 3
   },
   "file_extension": ".py",
   "mimetype": "text/x-python",
   "name": "python",
   "nbconvert_exporter": "python",
   "pygments_lexer": "ipython3",
   "version": "3.6.10"
  }
 },
 "nbformat": 4,
 "nbformat_minor": 5
}
